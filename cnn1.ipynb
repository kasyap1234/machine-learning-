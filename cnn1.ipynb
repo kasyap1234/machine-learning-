{
  "nbformat": 4,
  "nbformat_minor": 0,
  "metadata": {
    "colab": {
      "name": "cnn1.ipynb",
      "provenance": [],
      "authorship_tag": "ABX9TyMc5Ud3IpMaw7kwLSshJ/Zh",
      "include_colab_link": true
    },
    "kernelspec": {
      "name": "python3",
      "display_name": "Python 3"
    },
    "language_info": {
      "name": "python"
    },
    "accelerator": "GPU"
  },
  "cells": [
    {
      "cell_type": "markdown",
      "metadata": {
        "id": "view-in-github",
        "colab_type": "text"
      },
      "source": [
        "<a href=\"https://colab.research.google.com/github/kasyap1234/machine-learning-/blob/main/cnn1.ipynb\" target=\"_parent\"><img src=\"https://colab.research.google.com/assets/colab-badge.svg\" alt=\"Open In Colab\"/></a>"
      ]
    },
    {
      "cell_type": "code",
      "metadata": {
        "id": "8DQF3kmM7Srk"
      },
      "source": [
        "import tensorflow as tf \n",
        "from tensorflow.keras import datasets,layers,models\n",
        "import matplotlib.pyplot as plt \n",
        "import numpy as np "
      ],
      "execution_count": 1,
      "outputs": []
    },
    {
      "cell_type": "code",
      "source": [
        "(X_train,Y_train),(X_test,Y_test)=datasets.cifar10.load_data()"
      ],
      "metadata": {
        "colab": {
          "base_uri": "https://localhost:8080/"
        },
        "id": "h5_38yE9ZLC3",
        "outputId": "12a2d151-5c18-40e4-d232-45736fa00039"
      },
      "execution_count": 2,
      "outputs": [
        {
          "output_type": "stream",
          "name": "stdout",
          "text": [
            "Downloading data from https://www.cs.toronto.edu/~kriz/cifar-10-python.tar.gz\n",
            "170500096/170498071 [==============================] - 3s 0us/step\n",
            "170508288/170498071 [==============================] - 3s 0us/step\n"
          ]
        }
      ]
    },
    {
      "cell_type": "code",
      "source": [
        "X_train.shape\n"
      ],
      "metadata": {
        "colab": {
          "base_uri": "https://localhost:8080/"
        },
        "id": "hRm0FNqVZaVA",
        "outputId": "5bc44377-a3a9-40b7-d841-6a4d99c86837"
      },
      "execution_count": 8,
      "outputs": [
        {
          "output_type": "execute_result",
          "data": {
            "text/plain": [
              "(50000, 32, 32, 3)"
            ]
          },
          "metadata": {},
          "execution_count": 8
        }
      ]
    },
    {
      "cell_type": "code",
      "source": [
        "X_test.shape"
      ],
      "metadata": {
        "colab": {
          "base_uri": "https://localhost:8080/"
        },
        "id": "D76Ps_MXZpC_",
        "outputId": "bb7f1bec-fadd-4968-aaac-c23b2e2b45af"
      },
      "execution_count": 9,
      "outputs": [
        {
          "output_type": "execute_result",
          "data": {
            "text/plain": [
              "(10000, 32, 32, 3)"
            ]
          },
          "metadata": {},
          "execution_count": 9
        }
      ]
    },
    {
      "cell_type": "code",
      "source": [
        "plt.imshow(X_train[2])"
      ],
      "metadata": {
        "colab": {
          "base_uri": "https://localhost:8080/",
          "height": 283
        },
        "id": "re5HKF3HZxb6",
        "outputId": "e5bfca28-2a77-419e-ff37-46c92e15ae31"
      },
      "execution_count": 11,
      "outputs": [
        {
          "output_type": "execute_result",
          "data": {
            "text/plain": [
              "<matplotlib.image.AxesImage at 0x7fa21cc49810>"
            ]
          },
          "metadata": {},
          "execution_count": 11
        },
        {
          "output_type": "display_data",
          "data": {
            "image/png": "[encoded data removed]",
            "text/plain": [
              "<Figure size 432x288 with 1 Axes>"
            ]
          },
          "metadata": {
            "needs_background": "light"
          }
        }
      ]
    },
    {
      "cell_type": "code",
      "source": [
        "Y_test"
      ],
      "metadata": {
        "colab": {
          "base_uri": "https://localhost:8080/"
        },
        "id": "m2tGfbaLZ5AM",
        "outputId": "e2312351-570f-428c-e36b-4087da59b7d2"
      },
      "execution_count": 12,
      "outputs": [
        {
          "output_type": "execute_result",
          "data": {
            "text/plain": [
              "array([[3],\n",
              "       [8],\n",
              "       [8],\n",
              "       ...,\n",
              "       [5],\n",
              "       [1],\n",
              "       [7]], dtype=uint8)"
            ]
          },
          "metadata": {},
          "execution_count": 12
        }
      ]
    },
    {
      "cell_type": "code",
      "source": [
        "Y_test=Y_test.reshape(-1,)"
      ],
      "metadata": {
        "id": "g-1IQ0XbcFHk"
      },
      "execution_count": 13,
      "outputs": []
    },
    {
      "cell_type": "code",
      "source": [
        "Y_test"
      ],
      "metadata": {
        "colab": {
          "base_uri": "https://localhost:8080/"
        },
        "id": "pndn05AicJPo",
        "outputId": "a21aba8c-80fc-43e6-d5e7-71d145b67afc"
      },
      "execution_count": 14,
      "outputs": [
        {
          "output_type": "execute_result",
          "data": {
            "text/plain": [
              "array([3, 8, 8, ..., 5, 1, 7], dtype=uint8)"
            ]
          },
          "metadata": {},
          "execution_count": 14
        }
      ]
    },
    {
      "cell_type": "code",
      "source": [
        "X_test.shape"
      ],
      "metadata": {
        "colab": {
          "base_uri": "https://localhost:8080/"
        },
        "id": "8h27Meb-cKlg",
        "outputId": "b97889c8-6d20-4906-fde2-9c60b51364cf"
      },
      "execution_count": 16,
      "outputs": [
        {
          "output_type": "execute_result",
          "data": {
            "text/plain": [
              "(10000, 32, 32, 3)"
            ]
          },
          "metadata": {},
          "execution_count": 16
        }
      ]
    },
    {
      "cell_type": "code",
      "source": [
        "X_test[:5]"
      ],
      "metadata": {
        "colab": {
          "base_uri": "https://localhost:8080/"
        },
        "id": "YeUFsoFNcNtQ",
        "outputId": "87eced34-9196-4a31-eac5-c6b04cd1f901"
      },
      "execution_count": 17,
      "outputs": [
        {
          "output_type": "execute_result",
          "data": {
            "text/plain": [
              "array([[[[158, 112,  49],\n",
              "         [159, 111,  47],\n",
              "         [165, 116,  51],\n",
              "         ...,\n",
              "         [137,  95,  36],\n",
              "         [126,  91,  36],\n",
              "         [116,  85,  33]],\n",
              "\n",
              "        [[152, 112,  51],\n",
              "         [151, 110,  40],\n",
              "         [159, 114,  45],\n",
              "         ...,\n",
              "         [136,  95,  31],\n",
              "         [125,  91,  32],\n",
              "         [119,  88,  34]],\n",
              "\n",
              "        [[151, 110,  47],\n",
              "         [151, 109,  33],\n",
              "         [158, 111,  36],\n",
              "         ...,\n",
              "         [139,  98,  34],\n",
              "         [130,  95,  34],\n",
              "         [120,  89,  33]],\n",
              "\n",
              "        ...,\n",
              "\n",
              "        [[ 68, 124, 177],\n",
              "         [ 42, 100, 148],\n",
              "         [ 31,  88, 137],\n",
              "         ...,\n",
              "         [ 38,  97, 146],\n",
              "         [ 13,  64, 108],\n",
              "         [ 40,  85, 127]],\n",
              "\n",
              "        [[ 61, 116, 168],\n",
              "         [ 49, 102, 148],\n",
              "         [ 35,  85, 132],\n",
              "         ...,\n",
              "         [ 26,  82, 130],\n",
              "         [ 29,  82, 126],\n",
              "         [ 20,  64, 107]],\n",
              "\n",
              "        [[ 54, 107, 160],\n",
              "         [ 56, 105, 149],\n",
              "         [ 45,  89, 132],\n",
              "         ...,\n",
              "         [ 24,  77, 124],\n",
              "         [ 34,  84, 129],\n",
              "         [ 21,  67, 110]]],\n",
              "\n",
              "\n",
              "       [[[235, 235, 235],\n",
              "         [231, 231, 231],\n",
              "         [232, 232, 232],\n",
              "         ...,\n",
              "         [233, 233, 233],\n",
              "         [233, 233, 233],\n",
              "         [232, 232, 232]],\n",
              "\n",
              "        [[238, 238, 238],\n",
              "         [235, 235, 235],\n",
              "         [235, 235, 235],\n",
              "         ...,\n",
              "         [236, 236, 236],\n",
              "         [236, 236, 236],\n",
              "         [235, 235, 235]],\n",
              "\n",
              "        [[237, 237, 237],\n",
              "         [234, 234, 234],\n",
              "         [234, 234, 234],\n",
              "         ...,\n",
              "         [235, 235, 235],\n",
              "         [235, 235, 235],\n",
              "         [234, 234, 234]],\n",
              "\n",
              "        ...,\n",
              "\n",
              "        [[ 87,  99,  89],\n",
              "         [ 43,  51,  37],\n",
              "         [ 19,  23,  11],\n",
              "         ...,\n",
              "         [169, 184, 179],\n",
              "         [182, 197, 193],\n",
              "         [188, 202, 201]],\n",
              "\n",
              "        [[ 82,  96,  82],\n",
              "         [ 46,  57,  36],\n",
              "         [ 36,  44,  22],\n",
              "         ...,\n",
              "         [174, 189, 183],\n",
              "         [185, 200, 196],\n",
              "         [187, 202, 200]],\n",
              "\n",
              "        [[ 85, 101,  83],\n",
              "         [ 62,  75,  48],\n",
              "         [ 58,  67,  38],\n",
              "         ...,\n",
              "         [168, 183, 178],\n",
              "         [180, 195, 191],\n",
              "         [186, 200, 199]]],\n",
              "\n",
              "\n",
              "       [[[158, 190, 222],\n",
              "         [158, 187, 218],\n",
              "         [139, 166, 194],\n",
              "         ...,\n",
              "         [228, 231, 234],\n",
              "         [237, 239, 243],\n",
              "         [238, 241, 246]],\n",
              "\n",
              "        [[170, 200, 229],\n",
              "         [172, 199, 226],\n",
              "         [151, 176, 201],\n",
              "         ...,\n",
              "         [232, 232, 236],\n",
              "         [246, 246, 250],\n",
              "         [246, 247, 251]],\n",
              "\n",
              "        [[174, 201, 225],\n",
              "         [176, 200, 222],\n",
              "         [157, 179, 199],\n",
              "         ...,\n",
              "         [230, 229, 232],\n",
              "         [250, 249, 251],\n",
              "         [245, 244, 247]],\n",
              "\n",
              "        ...,\n",
              "\n",
              "        [[ 31,  40,  45],\n",
              "         [ 30,  39,  44],\n",
              "         [ 26,  35,  40],\n",
              "         ...,\n",
              "         [ 37,  40,  46],\n",
              "         [  9,  13,  14],\n",
              "         [  4,   7,   5]],\n",
              "\n",
              "        [[ 23,  34,  39],\n",
              "         [ 27,  38,  43],\n",
              "         [ 25,  36,  41],\n",
              "         ...,\n",
              "         [ 19,  20,  24],\n",
              "         [  4,   6,   3],\n",
              "         [  5,   7,   3]],\n",
              "\n",
              "        [[ 28,  41,  47],\n",
              "         [ 30,  43,  50],\n",
              "         [ 32,  45,  52],\n",
              "         ...,\n",
              "         [  5,   6,   8],\n",
              "         [  4,   5,   3],\n",
              "         [  7,   8,   7]]],\n",
              "\n",
              "\n",
              "       [[[155, 156, 149],\n",
              "         [167, 176, 187],\n",
              "         [176, 179, 193],\n",
              "         ...,\n",
              "         [201, 196, 209],\n",
              "         [202, 202, 212],\n",
              "         [192, 183, 171]],\n",
              "\n",
              "        [[153, 155, 157],\n",
              "         [163, 179, 204],\n",
              "         [171, 184, 215],\n",
              "         ...,\n",
              "         [202, 208, 222],\n",
              "         [203, 215, 227],\n",
              "         [189, 190, 183]],\n",
              "\n",
              "        [[155, 154, 153],\n",
              "         [160, 178, 201],\n",
              "         [168, 185, 213],\n",
              "         ...,\n",
              "         [206, 208, 215],\n",
              "         [204, 215, 224],\n",
              "         [189, 191, 184]],\n",
              "\n",
              "        ...,\n",
              "\n",
              "        [[ 89,  79,  62],\n",
              "         [ 57,  53,  52],\n",
              "         [ 61,  61,  59],\n",
              "         ...,\n",
              "         [ 89, 119, 101],\n",
              "         [ 59,  79,  62],\n",
              "         [ 67,  74,  50]],\n",
              "\n",
              "        [[ 89,  82,  62],\n",
              "         [ 60,  58,  53],\n",
              "         [ 63,  66,  58],\n",
              "         ...,\n",
              "         [ 57,  66,  58],\n",
              "         [ 61,  64,  54],\n",
              "         [ 75,  69,  51]],\n",
              "\n",
              "        [[ 92,  78,  64],\n",
              "         [ 60,  52,  51],\n",
              "         [ 61,  58,  51],\n",
              "         ...,\n",
              "         [ 60,  63,  50],\n",
              "         [ 64,  65,  52],\n",
              "         [ 73,  68,  50]]],\n",
              "\n",
              "\n",
              "       [[[ 65,  68,  50],\n",
              "         [ 70,  81,  64],\n",
              "         [ 48,  64,  46],\n",
              "         ...,\n",
              "         [ 51,  67,  41],\n",
              "         [ 54,  76,  53],\n",
              "         [ 67,  87,  66]],\n",
              "\n",
              "        [[ 69,  80,  58],\n",
              "         [ 79, 102,  81],\n",
              "         [ 60,  74,  57],\n",
              "         ...,\n",
              "         [ 54,  66,  44],\n",
              "         [ 65,  90,  69],\n",
              "         [ 61,  81,  66]],\n",
              "\n",
              "        [[ 73,  95,  72],\n",
              "         [ 84, 109,  87],\n",
              "         [ 72,  88,  70],\n",
              "         ...,\n",
              "         [ 78,  98,  75],\n",
              "         [ 73,  98,  77],\n",
              "         [ 48,  59,  51]],\n",
              "\n",
              "        ...,\n",
              "\n",
              "        [[ 95, 127,  92],\n",
              "         [ 91, 123,  86],\n",
              "         [ 57,  79,  45],\n",
              "         ...,\n",
              "         [144, 172, 108],\n",
              "         [170, 201, 134],\n",
              "         [122, 143,  98]],\n",
              "\n",
              "        [[ 94, 125,  82],\n",
              "         [ 75, 104,  71],\n",
              "         [ 32,  52,  24],\n",
              "         ...,\n",
              "         [143, 181, 116],\n",
              "         [154, 188, 123],\n",
              "         [106, 129,  89]],\n",
              "\n",
              "        [[ 78, 102,  65],\n",
              "         [ 35,  51,  27],\n",
              "         [ 24,  40,  17],\n",
              "         ...,\n",
              "         [143, 179, 136],\n",
              "         [154, 185, 146],\n",
              "         [128, 156, 117]]]], dtype=uint8)"
            ]
          },
          "metadata": {},
          "execution_count": 17
        }
      ]
    },
    {
      "cell_type": "code",
      "source": [
        "objects=[\"airplane\",\"automobile\",\"bird\",\"cat\",\"deer\",\"dog\",\"frog\",\"horse\",\"ship\",\"truck\"]"
      ],
      "metadata": {
        "id": "nv_UVynNcTtH"
      },
      "execution_count": 19,
      "outputs": []
    },
    {
      "cell_type": "markdown",
      "source": [
        "normalise the data \n"
      ],
      "metadata": {
        "id": "CJzqtm0xeGJ0"
      }
    },
    {
      "cell_type": "code",
      "source": [
        "X_train=X_train/255"
      ],
      "metadata": {
        "id": "LB5YMpr5eHgi"
      },
      "execution_count": 21,
      "outputs": []
    },
    {
      "cell_type": "code",
      "source": [
        "X_train"
      ],
      "metadata": {
        "colab": {
          "base_uri": "https://localhost:8080/"
        },
        "id": "tUoQdZL4eLbh",
        "outputId": "3b72b992-c0d1-497b-c7d7-ce96467017f3"
      },
      "execution_count": 22,
      "outputs": [
        {
          "output_type": "execute_result",
          "data": {
            "text/plain": [
              "array([[[[0.23137255, 0.24313725, 0.24705882],\n",
              "         [0.16862745, 0.18039216, 0.17647059],\n",
              "         [0.19607843, 0.18823529, 0.16862745],\n",
              "         ...,\n",
              "         [0.61960784, 0.51764706, 0.42352941],\n",
              "         [0.59607843, 0.49019608, 0.4       ],\n",
              "         [0.58039216, 0.48627451, 0.40392157]],\n",
              "\n",
              "        [[0.0627451 , 0.07843137, 0.07843137],\n",
              "         [0.        , 0.        , 0.        ],\n",
              "         [0.07058824, 0.03137255, 0.        ],\n",
              "         ...,\n",
              "         [0.48235294, 0.34509804, 0.21568627],\n",
              "         [0.46666667, 0.3254902 , 0.19607843],\n",
              "         [0.47843137, 0.34117647, 0.22352941]],\n",
              "\n",
              "        [[0.09803922, 0.09411765, 0.08235294],\n",
              "         [0.0627451 , 0.02745098, 0.        ],\n",
              "         [0.19215686, 0.10588235, 0.03137255],\n",
              "         ...,\n",
              "         [0.4627451 , 0.32941176, 0.19607843],\n",
              "         [0.47058824, 0.32941176, 0.19607843],\n",
              "         [0.42745098, 0.28627451, 0.16470588]],\n",
              "\n",
              "        ...,\n",
              "\n",
              "        [[0.81568627, 0.66666667, 0.37647059],\n",
              "         [0.78823529, 0.6       , 0.13333333],\n",
              "         [0.77647059, 0.63137255, 0.10196078],\n",
              "         ...,\n",
              "         [0.62745098, 0.52156863, 0.2745098 ],\n",
              "         [0.21960784, 0.12156863, 0.02745098],\n",
              "         [0.20784314, 0.13333333, 0.07843137]],\n",
              "\n",
              "        [[0.70588235, 0.54509804, 0.37647059],\n",
              "         [0.67843137, 0.48235294, 0.16470588],\n",
              "         [0.72941176, 0.56470588, 0.11764706],\n",
              "         ...,\n",
              "         [0.72156863, 0.58039216, 0.36862745],\n",
              "         [0.38039216, 0.24313725, 0.13333333],\n",
              "         [0.3254902 , 0.20784314, 0.13333333]],\n",
              "\n",
              "        [[0.69411765, 0.56470588, 0.45490196],\n",
              "         [0.65882353, 0.50588235, 0.36862745],\n",
              "         [0.70196078, 0.55686275, 0.34117647],\n",
              "         ...,\n",
              "         [0.84705882, 0.72156863, 0.54901961],\n",
              "         [0.59215686, 0.4627451 , 0.32941176],\n",
              "         [0.48235294, 0.36078431, 0.28235294]]],\n",
              "\n",
              "\n",
              "       [[[0.60392157, 0.69411765, 0.73333333],\n",
              "         [0.49411765, 0.5372549 , 0.53333333],\n",
              "         [0.41176471, 0.40784314, 0.37254902],\n",
              "         ...,\n",
              "         [0.35686275, 0.37254902, 0.27843137],\n",
              "         [0.34117647, 0.35294118, 0.27843137],\n",
              "         [0.30980392, 0.31764706, 0.2745098 ]],\n",
              "\n",
              "        [[0.54901961, 0.62745098, 0.6627451 ],\n",
              "         [0.56862745, 0.6       , 0.60392157],\n",
              "         [0.49019608, 0.49019608, 0.4627451 ],\n",
              "         ...,\n",
              "         [0.37647059, 0.38823529, 0.30588235],\n",
              "         [0.30196078, 0.31372549, 0.24313725],\n",
              "         [0.27843137, 0.28627451, 0.23921569]],\n",
              "\n",
              "        [[0.54901961, 0.60784314, 0.64313725],\n",
              "         [0.54509804, 0.57254902, 0.58431373],\n",
              "         [0.45098039, 0.45098039, 0.43921569],\n",
              "         ...,\n",
              "         [0.30980392, 0.32156863, 0.25098039],\n",
              "         [0.26666667, 0.2745098 , 0.21568627],\n",
              "         [0.2627451 , 0.27058824, 0.21568627]],\n",
              "\n",
              "        ...,\n",
              "\n",
              "        [[0.68627451, 0.65490196, 0.65098039],\n",
              "         [0.61176471, 0.60392157, 0.62745098],\n",
              "         [0.60392157, 0.62745098, 0.66666667],\n",
              "         ...,\n",
              "         [0.16470588, 0.13333333, 0.14117647],\n",
              "         [0.23921569, 0.20784314, 0.22352941],\n",
              "         [0.36470588, 0.3254902 , 0.35686275]],\n",
              "\n",
              "        [[0.64705882, 0.60392157, 0.50196078],\n",
              "         [0.61176471, 0.59607843, 0.50980392],\n",
              "         [0.62352941, 0.63137255, 0.55686275],\n",
              "         ...,\n",
              "         [0.40392157, 0.36470588, 0.37647059],\n",
              "         [0.48235294, 0.44705882, 0.47058824],\n",
              "         [0.51372549, 0.4745098 , 0.51372549]],\n",
              "\n",
              "        [[0.63921569, 0.58039216, 0.47058824],\n",
              "         [0.61960784, 0.58039216, 0.47843137],\n",
              "         [0.63921569, 0.61176471, 0.52156863],\n",
              "         ...,\n",
              "         [0.56078431, 0.52156863, 0.54509804],\n",
              "         [0.56078431, 0.5254902 , 0.55686275],\n",
              "         [0.56078431, 0.52156863, 0.56470588]]],\n",
              "\n",
              "\n",
              "       [[[1.        , 1.        , 1.        ],\n",
              "         [0.99215686, 0.99215686, 0.99215686],\n",
              "         [0.99215686, 0.99215686, 0.99215686],\n",
              "         ...,\n",
              "         [0.99215686, 0.99215686, 0.99215686],\n",
              "         [0.99215686, 0.99215686, 0.99215686],\n",
              "         [0.99215686, 0.99215686, 0.99215686]],\n",
              "\n",
              "        [[1.        , 1.        , 1.        ],\n",
              "         [1.        , 1.        , 1.        ],\n",
              "         [1.        , 1.        , 1.        ],\n",
              "         ...,\n",
              "         [1.        , 1.        , 1.        ],\n",
              "         [1.        , 1.        , 1.        ],\n",
              "         [1.        , 1.        , 1.        ]],\n",
              "\n",
              "        [[1.        , 1.        , 1.        ],\n",
              "         [0.99607843, 0.99607843, 0.99607843],\n",
              "         [0.99607843, 0.99607843, 0.99607843],\n",
              "         ...,\n",
              "         [0.99607843, 0.99607843, 0.99607843],\n",
              "         [0.99607843, 0.99607843, 0.99607843],\n",
              "         [0.99607843, 0.99607843, 0.99607843]],\n",
              "\n",
              "        ...,\n",
              "\n",
              "        [[0.44313725, 0.47058824, 0.43921569],\n",
              "         [0.43529412, 0.4627451 , 0.43529412],\n",
              "         [0.41176471, 0.43921569, 0.41568627],\n",
              "         ...,\n",
              "         [0.28235294, 0.31764706, 0.31372549],\n",
              "         [0.28235294, 0.31372549, 0.30980392],\n",
              "         [0.28235294, 0.31372549, 0.30980392]],\n",
              "\n",
              "        [[0.43529412, 0.4627451 , 0.43137255],\n",
              "         [0.40784314, 0.43529412, 0.40784314],\n",
              "         [0.38823529, 0.41568627, 0.38431373],\n",
              "         ...,\n",
              "         [0.26666667, 0.29411765, 0.28627451],\n",
              "         [0.2745098 , 0.29803922, 0.29411765],\n",
              "         [0.30588235, 0.32941176, 0.32156863]],\n",
              "\n",
              "        [[0.41568627, 0.44313725, 0.41176471],\n",
              "         [0.38823529, 0.41568627, 0.38431373],\n",
              "         [0.37254902, 0.4       , 0.36862745],\n",
              "         ...,\n",
              "         [0.30588235, 0.33333333, 0.3254902 ],\n",
              "         [0.30980392, 0.33333333, 0.3254902 ],\n",
              "         [0.31372549, 0.3372549 , 0.32941176]]],\n",
              "\n",
              "\n",
              "       ...,\n",
              "\n",
              "\n",
              "       [[[0.1372549 , 0.69803922, 0.92156863],\n",
              "         [0.15686275, 0.69019608, 0.9372549 ],\n",
              "         [0.16470588, 0.69019608, 0.94509804],\n",
              "         ...,\n",
              "         [0.38823529, 0.69411765, 0.85882353],\n",
              "         [0.30980392, 0.57647059, 0.77254902],\n",
              "         [0.34901961, 0.58039216, 0.74117647]],\n",
              "\n",
              "        [[0.22352941, 0.71372549, 0.91764706],\n",
              "         [0.17254902, 0.72156863, 0.98039216],\n",
              "         [0.19607843, 0.71764706, 0.94117647],\n",
              "         ...,\n",
              "         [0.61176471, 0.71372549, 0.78431373],\n",
              "         [0.55294118, 0.69411765, 0.80784314],\n",
              "         [0.45490196, 0.58431373, 0.68627451]],\n",
              "\n",
              "        [[0.38431373, 0.77254902, 0.92941176],\n",
              "         [0.25098039, 0.74117647, 0.98823529],\n",
              "         [0.27058824, 0.75294118, 0.96078431],\n",
              "         ...,\n",
              "         [0.7372549 , 0.76470588, 0.80784314],\n",
              "         [0.46666667, 0.52941176, 0.57647059],\n",
              "         [0.23921569, 0.30980392, 0.35294118]],\n",
              "\n",
              "        ...,\n",
              "\n",
              "        [[0.28627451, 0.30980392, 0.30196078],\n",
              "         [0.20784314, 0.24705882, 0.26666667],\n",
              "         [0.21176471, 0.26666667, 0.31372549],\n",
              "         ...,\n",
              "         [0.06666667, 0.15686275, 0.25098039],\n",
              "         [0.08235294, 0.14117647, 0.2       ],\n",
              "         [0.12941176, 0.18823529, 0.19215686]],\n",
              "\n",
              "        [[0.23921569, 0.26666667, 0.29411765],\n",
              "         [0.21568627, 0.2745098 , 0.3372549 ],\n",
              "         [0.22352941, 0.30980392, 0.40392157],\n",
              "         ...,\n",
              "         [0.09411765, 0.18823529, 0.28235294],\n",
              "         [0.06666667, 0.1372549 , 0.20784314],\n",
              "         [0.02745098, 0.09019608, 0.1254902 ]],\n",
              "\n",
              "        [[0.17254902, 0.21960784, 0.28627451],\n",
              "         [0.18039216, 0.25882353, 0.34509804],\n",
              "         [0.19215686, 0.30196078, 0.41176471],\n",
              "         ...,\n",
              "         [0.10588235, 0.20392157, 0.30196078],\n",
              "         [0.08235294, 0.16862745, 0.25882353],\n",
              "         [0.04705882, 0.12156863, 0.19607843]]],\n",
              "\n",
              "\n",
              "       [[[0.74117647, 0.82745098, 0.94117647],\n",
              "         [0.72941176, 0.81568627, 0.9254902 ],\n",
              "         [0.7254902 , 0.81176471, 0.92156863],\n",
              "         ...,\n",
              "         [0.68627451, 0.76470588, 0.87843137],\n",
              "         [0.6745098 , 0.76078431, 0.87058824],\n",
              "         [0.6627451 , 0.76078431, 0.8627451 ]],\n",
              "\n",
              "        [[0.76078431, 0.82352941, 0.9372549 ],\n",
              "         [0.74901961, 0.81176471, 0.9254902 ],\n",
              "         [0.74509804, 0.80784314, 0.92156863],\n",
              "         ...,\n",
              "         [0.67843137, 0.75294118, 0.8627451 ],\n",
              "         [0.67058824, 0.74901961, 0.85490196],\n",
              "         [0.65490196, 0.74509804, 0.84705882]],\n",
              "\n",
              "        [[0.81568627, 0.85882353, 0.95686275],\n",
              "         [0.80392157, 0.84705882, 0.94117647],\n",
              "         [0.8       , 0.84313725, 0.9372549 ],\n",
              "         ...,\n",
              "         [0.68627451, 0.74901961, 0.85098039],\n",
              "         [0.6745098 , 0.74509804, 0.84705882],\n",
              "         [0.6627451 , 0.74901961, 0.84313725]],\n",
              "\n",
              "        ...,\n",
              "\n",
              "        [[0.81176471, 0.78039216, 0.70980392],\n",
              "         [0.79607843, 0.76470588, 0.68627451],\n",
              "         [0.79607843, 0.76862745, 0.67843137],\n",
              "         ...,\n",
              "         [0.52941176, 0.51764706, 0.49803922],\n",
              "         [0.63529412, 0.61960784, 0.58823529],\n",
              "         [0.65882353, 0.63921569, 0.59215686]],\n",
              "\n",
              "        [[0.77647059, 0.74509804, 0.66666667],\n",
              "         [0.74117647, 0.70980392, 0.62352941],\n",
              "         [0.70588235, 0.6745098 , 0.57647059],\n",
              "         ...,\n",
              "         [0.69803922, 0.67058824, 0.62745098],\n",
              "         [0.68627451, 0.6627451 , 0.61176471],\n",
              "         [0.68627451, 0.6627451 , 0.60392157]],\n",
              "\n",
              "        [[0.77647059, 0.74117647, 0.67843137],\n",
              "         [0.74117647, 0.70980392, 0.63529412],\n",
              "         [0.69803922, 0.66666667, 0.58431373],\n",
              "         ...,\n",
              "         [0.76470588, 0.72156863, 0.6627451 ],\n",
              "         [0.76862745, 0.74117647, 0.67058824],\n",
              "         [0.76470588, 0.74509804, 0.67058824]]],\n",
              "\n",
              "\n",
              "       [[[0.89803922, 0.89803922, 0.9372549 ],\n",
              "         [0.9254902 , 0.92941176, 0.96862745],\n",
              "         [0.91764706, 0.9254902 , 0.96862745],\n",
              "         ...,\n",
              "         [0.85098039, 0.85882353, 0.91372549],\n",
              "         [0.86666667, 0.8745098 , 0.91764706],\n",
              "         [0.87058824, 0.8745098 , 0.91372549]],\n",
              "\n",
              "        [[0.87058824, 0.86666667, 0.89803922],\n",
              "         [0.9372549 , 0.9372549 , 0.97647059],\n",
              "         [0.91372549, 0.91764706, 0.96470588],\n",
              "         ...,\n",
              "         [0.8745098 , 0.8745098 , 0.9254902 ],\n",
              "         [0.89019608, 0.89411765, 0.93333333],\n",
              "         [0.82352941, 0.82745098, 0.8627451 ]],\n",
              "\n",
              "        [[0.83529412, 0.80784314, 0.82745098],\n",
              "         [0.91764706, 0.90980392, 0.9372549 ],\n",
              "         [0.90588235, 0.91372549, 0.95686275],\n",
              "         ...,\n",
              "         [0.8627451 , 0.8627451 , 0.90980392],\n",
              "         [0.8627451 , 0.85882353, 0.90980392],\n",
              "         [0.79215686, 0.79607843, 0.84313725]],\n",
              "\n",
              "        ...,\n",
              "\n",
              "        [[0.58823529, 0.56078431, 0.52941176],\n",
              "         [0.54901961, 0.52941176, 0.49803922],\n",
              "         [0.51764706, 0.49803922, 0.47058824],\n",
              "         ...,\n",
              "         [0.87843137, 0.87058824, 0.85490196],\n",
              "         [0.90196078, 0.89411765, 0.88235294],\n",
              "         [0.94509804, 0.94509804, 0.93333333]],\n",
              "\n",
              "        [[0.5372549 , 0.51764706, 0.49411765],\n",
              "         [0.50980392, 0.49803922, 0.47058824],\n",
              "         [0.49019608, 0.4745098 , 0.45098039],\n",
              "         ...,\n",
              "         [0.70980392, 0.70588235, 0.69803922],\n",
              "         [0.79215686, 0.78823529, 0.77647059],\n",
              "         [0.83137255, 0.82745098, 0.81176471]],\n",
              "\n",
              "        [[0.47843137, 0.46666667, 0.44705882],\n",
              "         [0.4627451 , 0.45490196, 0.43137255],\n",
              "         [0.47058824, 0.45490196, 0.43529412],\n",
              "         ...,\n",
              "         [0.70196078, 0.69411765, 0.67843137],\n",
              "         [0.64313725, 0.64313725, 0.63529412],\n",
              "         [0.63921569, 0.63921569, 0.63137255]]]])"
            ]
          },
          "metadata": {},
          "execution_count": 22
        }
      ]
    },
    {
      "cell_type": "code",
      "source": [
        "X_test=X_test/255"
      ],
      "metadata": {
        "id": "ojye9OgUeO8K"
      },
      "execution_count": 23,
      "outputs": []
    },
    {
      "cell_type": "markdown",
      "source": [
        "building a CNN Model \n"
      ],
      "metadata": {
        "id": "JxBMy5yfeea9"
      }
    },
    {
      "cell_type": "code",
      "source": [
        "cnn=models.Sequential([\n",
        "                       \n",
        "\n",
        "\n",
        "        layers.Conv2D(filters=64, kernel_size=(3,3), activation=\"relu\", input_shape=(32,32,3)), \n",
        "        layers.MaxPooling2D((2,2)), \n",
        "        layers.Flatten(),\n",
        "        layers.Dense(64,activation=\"relu\"), \n",
        "        layers.Dense(10,activation=\"softmax\")\n",
        "                       ])"
      ],
      "metadata": {
        "id": "816dVVNceS9A"
      },
      "execution_count": 48,
      "outputs": []
    },
    {
      "cell_type": "markdown",
      "source": [
        "Output layer having 10 neurons "
      ],
      "metadata": {
        "id": "3c8mePGhfjSi"
      }
    },
    {
      "cell_type": "code",
      "source": [
        "cnn.compile(optimizer=\"adam\",loss=\"sparse_categorical_crossentropy\",metrics=[\"accuracy\"])"
      ],
      "metadata": {
        "id": "DnZ93Nn5fXug"
      },
      "execution_count": 50,
      "outputs": []
    },
    {
      "cell_type": "code",
      "source": [
        "cnn.fit(X_train,Y_train,epochs=50)"
      ],
      "metadata": {
        "colab": {
          "base_uri": "https://localhost:8080/"
        },
        "id": "G0HJaXllfuBA",
        "outputId": "c193ee02-02c9-4682-d3ab-41977fcbec47"
      },
      "execution_count": 51,
      "outputs": [
        {
          "output_type": "stream",
          "name": "stdout",
          "text": [
            "Epoch 1/50\n",
            "1563/1563 [==============================] - 6s 3ms/step - loss: 1.4494 - accuracy: 0.4814\n",
            "Epoch 2/50\n",
            "1563/1563 [==============================] - 5s 3ms/step - loss: 1.1568 - accuracy: 0.5963\n",
            "Epoch 3/50\n",
            "1563/1563 [==============================] - 5s 3ms/step - loss: 1.0351 - accuracy: 0.6391\n",
            "Epoch 4/50\n",
            "1563/1563 [==============================] - 5s 3ms/step - loss: 0.9563 - accuracy: 0.6690\n",
            "Epoch 5/50\n",
            "1563/1563 [==============================] - 5s 3ms/step - loss: 0.8878 - accuracy: 0.6900\n",
            "Epoch 6/50\n",
            "1563/1563 [==============================] - 5s 3ms/step - loss: 0.8292 - accuracy: 0.7099\n",
            "Epoch 7/50\n",
            "1563/1563 [==============================] - 5s 3ms/step - loss: 0.7658 - accuracy: 0.7324\n",
            "Epoch 8/50\n",
            "1563/1563 [==============================] - 5s 3ms/step - loss: 0.7128 - accuracy: 0.7519\n",
            "Epoch 9/50\n",
            "1563/1563 [==============================] - 5s 3ms/step - loss: 0.6694 - accuracy: 0.7661\n",
            "Epoch 10/50\n",
            "1563/1563 [==============================] - 5s 3ms/step - loss: 0.6178 - accuracy: 0.7847\n",
            "Epoch 11/50\n",
            "1563/1563 [==============================] - 5s 3ms/step - loss: 0.5763 - accuracy: 0.7976\n",
            "Epoch 12/50\n",
            "1563/1563 [==============================] - 5s 3ms/step - loss: 0.5338 - accuracy: 0.8130\n",
            "Epoch 13/50\n",
            "1563/1563 [==============================] - 5s 3ms/step - loss: 0.4935 - accuracy: 0.8264\n",
            "Epoch 14/50\n",
            "1563/1563 [==============================] - 5s 3ms/step - loss: 0.4530 - accuracy: 0.8416\n",
            "Epoch 15/50\n",
            "1563/1563 [==============================] - 5s 3ms/step - loss: 0.4229 - accuracy: 0.8507\n",
            "Epoch 16/50\n",
            "1563/1563 [==============================] - 5s 3ms/step - loss: 0.3858 - accuracy: 0.8641\n",
            "Epoch 17/50\n",
            "1563/1563 [==============================] - 5s 3ms/step - loss: 0.3521 - accuracy: 0.8762\n",
            "Epoch 18/50\n",
            "1563/1563 [==============================] - 5s 3ms/step - loss: 0.3248 - accuracy: 0.8865\n",
            "Epoch 19/50\n",
            "1563/1563 [==============================] - 5s 3ms/step - loss: 0.2972 - accuracy: 0.8955\n",
            "Epoch 20/50\n",
            "1563/1563 [==============================] - 5s 3ms/step - loss: 0.2742 - accuracy: 0.9031\n",
            "Epoch 21/50\n",
            "1563/1563 [==============================] - 5s 3ms/step - loss: 0.2496 - accuracy: 0.9112\n",
            "Epoch 22/50\n",
            "1563/1563 [==============================] - 5s 3ms/step - loss: 0.2332 - accuracy: 0.9188\n",
            "Epoch 23/50\n",
            "1563/1563 [==============================] - 5s 3ms/step - loss: 0.2137 - accuracy: 0.9253\n",
            "Epoch 24/50\n",
            "1563/1563 [==============================] - 5s 3ms/step - loss: 0.1954 - accuracy: 0.9315\n",
            "Epoch 25/50\n",
            "1563/1563 [==============================] - 5s 3ms/step - loss: 0.1865 - accuracy: 0.9347\n",
            "Epoch 26/50\n",
            "1563/1563 [==============================] - 5s 3ms/step - loss: 0.1696 - accuracy: 0.9417\n",
            "Epoch 27/50\n",
            "1563/1563 [==============================] - 5s 3ms/step - loss: 0.1619 - accuracy: 0.9444\n",
            "Epoch 28/50\n",
            "1563/1563 [==============================] - 5s 3ms/step - loss: 0.1568 - accuracy: 0.9455\n",
            "Epoch 29/50\n",
            "1563/1563 [==============================] - 5s 3ms/step - loss: 0.1352 - accuracy: 0.9539\n",
            "Epoch 30/50\n",
            "1563/1563 [==============================] - 5s 3ms/step - loss: 0.1373 - accuracy: 0.9521\n",
            "Epoch 31/50\n",
            "1563/1563 [==============================] - 5s 3ms/step - loss: 0.1250 - accuracy: 0.9570\n",
            "Epoch 32/50\n",
            "1563/1563 [==============================] - 5s 3ms/step - loss: 0.1216 - accuracy: 0.9584\n",
            "Epoch 33/50\n",
            "1563/1563 [==============================] - 5s 3ms/step - loss: 0.1132 - accuracy: 0.9619\n",
            "Epoch 34/50\n",
            "1563/1563 [==============================] - 5s 3ms/step - loss: 0.1096 - accuracy: 0.9638\n",
            "Epoch 35/50\n",
            "1563/1563 [==============================] - 5s 3ms/step - loss: 0.1084 - accuracy: 0.9639\n",
            "Epoch 36/50\n",
            "1563/1563 [==============================] - 5s 3ms/step - loss: 0.1046 - accuracy: 0.9644\n",
            "Epoch 37/50\n",
            "1563/1563 [==============================] - 5s 3ms/step - loss: 0.1052 - accuracy: 0.9644\n",
            "Epoch 38/50\n",
            "1563/1563 [==============================] - 5s 3ms/step - loss: 0.0909 - accuracy: 0.9693\n",
            "Epoch 39/50\n",
            "1563/1563 [==============================] - 5s 3ms/step - loss: 0.0864 - accuracy: 0.9700\n",
            "Epoch 40/50\n",
            "1563/1563 [==============================] - 5s 3ms/step - loss: 0.0957 - accuracy: 0.9681\n",
            "Epoch 41/50\n",
            "1563/1563 [==============================] - 5s 3ms/step - loss: 0.0879 - accuracy: 0.9712\n",
            "Epoch 42/50\n",
            "1563/1563 [==============================] - 5s 3ms/step - loss: 0.0812 - accuracy: 0.9731\n",
            "Epoch 43/50\n",
            "1563/1563 [==============================] - 5s 3ms/step - loss: 0.0817 - accuracy: 0.9726\n",
            "Epoch 44/50\n",
            "1563/1563 [==============================] - 5s 3ms/step - loss: 0.0870 - accuracy: 0.9713\n",
            "Epoch 45/50\n",
            "1563/1563 [==============================] - 5s 3ms/step - loss: 0.0845 - accuracy: 0.9726\n",
            "Epoch 46/50\n",
            "1563/1563 [==============================] - 5s 3ms/step - loss: 0.0769 - accuracy: 0.9744\n",
            "Epoch 47/50\n",
            "1563/1563 [==============================] - 5s 3ms/step - loss: 0.0761 - accuracy: 0.9755\n",
            "Epoch 48/50\n",
            "1563/1563 [==============================] - 5s 3ms/step - loss: 0.0738 - accuracy: 0.9765\n",
            "Epoch 49/50\n",
            "1563/1563 [==============================] - 5s 3ms/step - loss: 0.0766 - accuracy: 0.9757\n",
            "Epoch 50/50\n",
            "1563/1563 [==============================] - 5s 3ms/step - loss: 0.0676 - accuracy: 0.9780\n"
          ]
        },
        {
          "output_type": "execute_result",
          "data": {
            "text/plain": [
              "<keras.callbacks.History at 0x7fa21010d450>"
            ]
          },
          "metadata": {},
          "execution_count": 51
        }
      ]
    },
    {
      "cell_type": "markdown",
      "source": [
        "getting an accuracy of 97 percent "
      ],
      "metadata": {
        "id": "Z7UoVRcPkgYJ"
      }
    },
    {
      "cell_type": "code",
      "source": [
        ""
      ],
      "metadata": {
        "id": "8flEmJGqiZYe"
      },
      "execution_count": null,
      "outputs": []
    }
  ]
}