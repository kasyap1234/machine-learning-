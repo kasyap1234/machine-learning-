{
  "nbformat": 4,
  "nbformat_minor": 0,
  "metadata": {
    "colab": {
      "name": "Untitled2.ipynb",
      "provenance": [],
      "collapsed_sections": [],
      "authorship_tag": "ABX9TyPWAm16iDYVwY5oG2kEzGbQ",
      "include_colab_link": true
    },
    "kernelspec": {
      "name": "python3",
      "display_name": "Python 3"
    },
    "language_info": {
      "name": "python"
    },
    "accelerator": "GPU"
  },
  "cells": [
    {
      "cell_type": "markdown",
      "metadata": {
        "id": "view-in-github",
        "colab_type": "text"
      },
      "source": [
        "<a href=\"https://colab.research.google.com/github/kasyap1234/machine-learning-/blob/main/Untitled2.ipynb\" target=\"_parent\"><img src=\"https://colab.research.google.com/assets/colab-badge.svg\" alt=\"Open In Colab\"/></a>"
      ]
    },
    {
      "cell_type": "code",
      "metadata": {
        "id": "_KdSTHmNc9zU"
      },
      "source": [
        "import tensorflow as tf \n",
        "from tensorflow import keras \n",
        "\n",
        "from keras import models \n",
        "from keras import layers \n",
        "from keras import utils \n",
        "\n"
      ],
      "execution_count": null,
      "outputs": []
    },
    {
      "cell_type": "code",
      "metadata": {
        "id": "rdR1ivdSef0P"
      },
      "source": [
        "from keras.datasets import mnist \n"
      ],
      "execution_count": null,
      "outputs": []
    },
    {
      "cell_type": "code",
      "metadata": {
        "id": "JCO-GpE5fCVt"
      },
      "source": [
        "(train_images,train_labels),(test_images,test_labels)=mnist.load_data()\n"
      ],
      "execution_count": null,
      "outputs": []
    },
    {
      "cell_type": "code",
      "metadata": {
        "colab": {
          "base_uri": "https://localhost:8080/"
        },
        "id": "W9Eb9wabfIM6",
        "outputId": "e737a79a-1331-4bf6-a400-f8409505b2b6"
      },
      "source": [
        "train_images.shape"
      ],
      "execution_count": null,
      "outputs": [
        {
          "output_type": "execute_result",
          "data": {
            "text/plain": [
              "(60000, 28, 28)"
            ]
          },
          "metadata": {},
          "execution_count": 39
        }
      ]
    },
    {
      "cell_type": "code",
      "metadata": {
        "colab": {
          "base_uri": "https://localhost:8080/"
        },
        "id": "QZJglqBTAGQt",
        "outputId": "79493cce-88bd-4dff-df02-a887e4cc7a07"
      },
      "source": [
        "train_labels.shape"
      ],
      "execution_count": null,
      "outputs": [
        {
          "output_type": "execute_result",
          "data": {
            "text/plain": [
              "(60000,)"
            ]
          },
          "metadata": {},
          "execution_count": 40
        }
      ]
    },
    {
      "cell_type": "markdown",
      "metadata": {
        "id": "HENKEasQpLLN"
      },
      "source": [
        "now we will build the neural network using keras "
      ]
    },
    {
      "cell_type": "code",
      "metadata": {
        "colab": {
          "base_uri": "https://localhost:8080/"
        },
        "id": "ZHVCM5uuAMQ-",
        "outputId": "3cf665fa-6ba4-4563-d4e7-1cce519bda33"
      },
      "source": [
        "test_labels.shape"
      ],
      "execution_count": null,
      "outputs": [
        {
          "output_type": "execute_result",
          "data": {
            "text/plain": [
              "(10000,)"
            ]
          },
          "metadata": {},
          "execution_count": 41
        }
      ]
    },
    {
      "cell_type": "code",
      "metadata": {
        "id": "WEb4CV7QfNW9"
      },
      "source": [
        "Model=models.Sequential()\n",
        "Model.add(layers.Dense(512,activation='relu',input_shape=(28*28,)))"
      ],
      "execution_count": null,
      "outputs": []
    },
    {
      "cell_type": "code",
      "metadata": {
        "id": "EdQrmr4eiYqg"
      },
      "source": [
        "Model.add(layers.Dense(10,activation='softmax'))"
      ],
      "execution_count": null,
      "outputs": []
    },
    {
      "cell_type": "code",
      "metadata": {
        "id": "kRgcRKtLpoKu"
      },
      "source": [
        "Model.compile(optimizer='rmsprop',loss='categorical_crossentropy',metrics=['accuracy'])"
      ],
      "execution_count": null,
      "outputs": []
    },
    {
      "cell_type": "markdown",
      "metadata": {
        "id": "AxicaxhuqGa5"
      },
      "source": [
        "we need to reshape our training and testing data so that it fits the input layer: \n",
        "for that we reshape it into (60000,784) from (60000,28,28)"
      ]
    },
    {
      "cell_type": "code",
      "metadata": {
        "id": "adr3qVMTp3bS"
      },
      "source": [
        "train_images=train_images.reshape((60000,28*28))"
      ],
      "execution_count": null,
      "outputs": []
    },
    {
      "cell_type": "markdown",
      "metadata": {
        "id": "hGvlYFszqkAv"
      },
      "source": [
        "we also convert the array into a float32 so that the values lie in between 0 and 1 . \n"
      ]
    },
    {
      "cell_type": "code",
      "metadata": {
        "id": "4drqRyYXqheu"
      },
      "source": [
        "train_images=train_images.astype(('float32'))/255"
      ],
      "execution_count": null,
      "outputs": []
    },
    {
      "cell_type": "markdown",
      "metadata": {
        "id": "dC9GMLuSq751"
      },
      "source": [
        "similar process is followed for the test_images "
      ]
    },
    {
      "cell_type": "code",
      "metadata": {
        "colab": {
          "base_uri": "https://localhost:8080/"
        },
        "id": "XSlCCgxHreWQ",
        "outputId": "76183d32-0977-46e6-dbb1-e6ea5f1f9a0c"
      },
      "source": [
        "test_images.shape"
      ],
      "execution_count": null,
      "outputs": [
        {
          "output_type": "execute_result",
          "data": {
            "text/plain": [
              "(10000, 28, 28)"
            ]
          },
          "metadata": {},
          "execution_count": 47
        }
      ]
    },
    {
      "cell_type": "code",
      "metadata": {
        "id": "7ND1q3xOq6eq"
      },
      "source": [
        "test_images=test_images.reshape((10000,28*28))\n",
        "test_images=test_images.astype(('float32'))/255"
      ],
      "execution_count": null,
      "outputs": []
    },
    {
      "cell_type": "code",
      "metadata": {
        "id": "TpG8k0w7Awn5"
      },
      "source": [
        "from tensorflow.keras.utils import to_categorical\n",
        "train_labels=to_categorical(train_labels)\n",
        "test_labels=to_categorical(test_labels)"
      ],
      "execution_count": null,
      "outputs": []
    },
    {
      "cell_type": "code",
      "metadata": {
        "colab": {
          "base_uri": "https://localhost:8080/"
        },
        "id": "pzKHBF04rNJ8",
        "outputId": "acdc33d3-dcc6-48c0-be43-a09e8dc61998"
      },
      "source": [
        "Model.fit(train_images,train_labels,epochs=20,batch_size=128)"
      ],
      "execution_count": null,
      "outputs": [
        {
          "output_type": "stream",
          "name": "stdout",
          "text": [
            "Epoch 1/20\n",
            "469/469 [==============================] - 3s 5ms/step - loss: 0.2610 - accuracy: 0.9254\n",
            "Epoch 2/20\n",
            "469/469 [==============================] - 2s 4ms/step - loss: 0.1037 - accuracy: 0.9698\n",
            "Epoch 3/20\n",
            "469/469 [==============================] - 2s 4ms/step - loss: 0.0686 - accuracy: 0.9798\n",
            "Epoch 4/20\n",
            "469/469 [==============================] - 2s 4ms/step - loss: 0.0487 - accuracy: 0.9852\n",
            "Epoch 5/20\n",
            "469/469 [==============================] - 2s 4ms/step - loss: 0.0378 - accuracy: 0.9890\n",
            "Epoch 6/20\n",
            "469/469 [==============================] - 2s 4ms/step - loss: 0.0289 - accuracy: 0.9914\n",
            "Epoch 7/20\n",
            "469/469 [==============================] - 2s 4ms/step - loss: 0.0222 - accuracy: 0.9937\n",
            "Epoch 8/20\n",
            "469/469 [==============================] - 2s 4ms/step - loss: 0.0167 - accuracy: 0.9952\n",
            "Epoch 9/20\n",
            "469/469 [==============================] - 2s 4ms/step - loss: 0.0133 - accuracy: 0.9962\n",
            "Epoch 10/20\n",
            "469/469 [==============================] - 2s 4ms/step - loss: 0.0101 - accuracy: 0.9972\n",
            "Epoch 11/20\n",
            "469/469 [==============================] - 2s 4ms/step - loss: 0.0080 - accuracy: 0.9978\n",
            "Epoch 12/20\n",
            "469/469 [==============================] - 2s 4ms/step - loss: 0.0059 - accuracy: 0.9984\n",
            "Epoch 13/20\n",
            "469/469 [==============================] - 2s 5ms/step - loss: 0.0047 - accuracy: 0.9987\n",
            "Epoch 14/20\n",
            "469/469 [==============================] - 2s 4ms/step - loss: 0.0039 - accuracy: 0.9989\n",
            "Epoch 15/20\n",
            "469/469 [==============================] - 2s 4ms/step - loss: 0.0028 - accuracy: 0.9992\n",
            "Epoch 16/20\n",
            "469/469 [==============================] - 2s 5ms/step - loss: 0.0021 - accuracy: 0.9994\n",
            "Epoch 17/20\n",
            "469/469 [==============================] - 2s 4ms/step - loss: 0.0017 - accuracy: 0.9995\n",
            "Epoch 18/20\n",
            "469/469 [==============================] - 2s 4ms/step - loss: 0.0016 - accuracy: 0.9996\n",
            "Epoch 19/20\n",
            "469/469 [==============================] - 2s 4ms/step - loss: 9.8364e-04 - accuracy: 0.9997\n",
            "Epoch 20/20\n",
            "469/469 [==============================] - 2s 4ms/step - loss: 9.4824e-04 - accuracy: 0.9997\n"
          ]
        },
        {
          "output_type": "execute_result",
          "data": {
            "text/plain": [
              "<keras.callbacks.History at 0x7f1ab0170d50>"
            ]
          },
          "metadata": {},
          "execution_count": 50
        }
      ]
    },
    {
      "cell_type": "markdown",
      "metadata": {
        "id": "cS0NKYsPCZXi"
      },
      "source": [
        "getting an accuracy of 98.2% which is fine . \n",
        "\n"
      ]
    },
    {
      "cell_type": "code",
      "metadata": {
        "colab": {
          "base_uri": "https://localhost:8080/"
        },
        "id": "X9MKi2LprxwT",
        "outputId": "148f3dba-5b94-4303-f87a-0c49c8d95177"
      },
      "source": [
        "test_loss,test_acc=Model.evaluate(test_images,test_labels)"
      ],
      "execution_count": null,
      "outputs": [
        {
          "output_type": "stream",
          "name": "stdout",
          "text": [
            "313/313 [==============================] - 1s 3ms/step - loss: 0.0963 - accuracy: 0.9822\n"
          ]
        }
      ]
    },
    {
      "cell_type": "code",
      "metadata": {
        "id": "HQUbEd0vCXT8"
      },
      "source": [
        ""
      ],
      "execution_count": null,
      "outputs": []
    }
  ]
}