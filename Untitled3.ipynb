{
  "nbformat": 4,
  "nbformat_minor": 0,
  "metadata": {
    "colab": {
      "name": "Untitled3.ipynb",
      "provenance": [],
      "authorship_tag": "ABX9TyOvi5I0YPR+FpzcHjnj3prm",
      "include_colab_link": true
    },
    "kernelspec": {
      "name": "python3",
      "display_name": "Python 3"
    },
    "language_info": {
      "name": "python"
    }
  },
  "cells": [
    {
      "cell_type": "markdown",
      "metadata": {
        "id": "view-in-github",
        "colab_type": "text"
      },
      "source": [
        "<a href=\"https://colab.research.google.com/github/kasyap1234/machine-learning-/blob/main/Untitled3.ipynb\" target=\"_parent\"><img src=\"https://colab.research.google.com/assets/colab-badge.svg\" alt=\"Open In Colab\"/></a>"
      ]
    },
    {
      "cell_type": "code",
      "execution_count": 27,
      "metadata": {
        "id": "FlmG3uI1OD8p",
        "colab": {
          "base_uri": "https://localhost:8080/"
        },
        "outputId": "d325bc32-07ed-406d-f2be-30c90ceaf197"
      },
      "outputs": [
        {
          "output_type": "stream",
          "name": "stdout",
          "text": [
            "[nltk_data] Downloading package punkt to /root/nltk_data...\n",
            "[nltk_data]   Package punkt is already up-to-date!\n",
            "[nltk_data] Downloading package stopwords to /root/nltk_data...\n",
            "[nltk_data]   Package stopwords is already up-to-date!\n"
          ]
        },
        {
          "output_type": "execute_result",
          "data": {
            "text/plain": [
              "True"
            ]
          },
          "metadata": {},
          "execution_count": 27
        }
      ],
      "source": [
        "import nltk\n",
        "nltk.download('punkt')\n",
        "nltk.download('stopwords')"
      ]
    },
    {
      "cell_type": "code",
      "source": [
        "from nltk.stem import PorterStemmer \n",
        "from nltk.corpus import stopwords \n"
      ],
      "metadata": {
        "id": "oxGtgNE4OOhP"
      },
      "execution_count": 28,
      "outputs": []
    },
    {
      "cell_type": "code",
      "source": [
        "paragraph=\"My name is Bhuvneshwar Kumar . I was born in meerut , uttar pradesh. I am Kasyap , I watch anime , my favourite anime is Naruto shippuden . I also play cricket and football. My favourite footballers are Lionel Messi and Antoinne Griezmann. \"\n",
        "paragraph=paragraph.lower()"
      ],
      "metadata": {
        "id": "k6TPQZiqOSqV"
      },
      "execution_count": 29,
      "outputs": []
    },
    {
      "cell_type": "code",
      "source": [
        "sentences=nltk.sent_tokenize(paragraph)"
      ],
      "metadata": {
        "id": "BmheXMBPMnCm"
      },
      "execution_count": 30,
      "outputs": []
    },
    {
      "cell_type": "markdown",
      "source": [
        "breaks the paragrah into individual sentences . "
      ],
      "metadata": {
        "id": "WNvIjhdONC9h"
      }
    },
    {
      "cell_type": "code",
      "source": [
        "sentences "
      ],
      "metadata": {
        "colab": {
          "base_uri": "https://localhost:8080/"
        },
        "id": "EXfmEIUbOF0y",
        "outputId": "5a06c933-53aa-47e9-e2d9-932f30fdd3f6"
      },
      "execution_count": 31,
      "outputs": [
        {
          "output_type": "execute_result",
          "data": {
            "text/plain": [
              "['my name is bhuvneshwar kumar .',\n",
              " 'i was born in meerut , uttar pradesh.',\n",
              " 'i am kasyap , i watch anime , my favourite anime is naruto shippuden .',\n",
              " 'i also play cricket and football.',\n",
              " 'my favourite footballers are lionel messi and antoinne griezmann.']"
            ]
          },
          "metadata": {},
          "execution_count": 31
        }
      ]
    },
    {
      "cell_type": "code",
      "source": [
        "print(len(sentences))"
      ],
      "metadata": {
        "colab": {
          "base_uri": "https://localhost:8080/"
        },
        "id": "Th_tNxJRMwY0",
        "outputId": "a462ff76-fe9a-4891-c560-df4510a3783b"
      },
      "execution_count": 32,
      "outputs": [
        {
          "output_type": "stream",
          "name": "stdout",
          "text": [
            "5\n"
          ]
        }
      ]
    },
    {
      "cell_type": "code",
      "source": [
        "words=nltk.word_tokenize(paragraph)"
      ],
      "metadata": {
        "id": "qnw5QgxxNBE9"
      },
      "execution_count": 33,
      "outputs": []
    },
    {
      "cell_type": "code",
      "source": [
        "words\n"
      ],
      "metadata": {
        "colab": {
          "base_uri": "https://localhost:8080/"
        },
        "id": "uxdvqlIgNPIm",
        "outputId": "aded1e44-8f26-444c-f124-5a18d73333ba"
      },
      "execution_count": 34,
      "outputs": [
        {
          "output_type": "execute_result",
          "data": {
            "text/plain": [
              "['my',\n",
              " 'name',\n",
              " 'is',\n",
              " 'bhuvneshwar',\n",
              " 'kumar',\n",
              " '.',\n",
              " 'i',\n",
              " 'was',\n",
              " 'born',\n",
              " 'in',\n",
              " 'meerut',\n",
              " ',',\n",
              " 'uttar',\n",
              " 'pradesh',\n",
              " '.',\n",
              " 'i',\n",
              " 'am',\n",
              " 'kasyap',\n",
              " ',',\n",
              " 'i',\n",
              " 'watch',\n",
              " 'anime',\n",
              " ',',\n",
              " 'my',\n",
              " 'favourite',\n",
              " 'anime',\n",
              " 'is',\n",
              " 'naruto',\n",
              " 'shippuden',\n",
              " '.',\n",
              " 'i',\n",
              " 'also',\n",
              " 'play',\n",
              " 'cricket',\n",
              " 'and',\n",
              " 'football',\n",
              " '.',\n",
              " 'my',\n",
              " 'favourite',\n",
              " 'footballers',\n",
              " 'are',\n",
              " 'lionel',\n",
              " 'messi',\n",
              " 'and',\n",
              " 'antoinne',\n",
              " 'griezmann',\n",
              " '.']"
            ]
          },
          "metadata": {},
          "execution_count": 34
        }
      ]
    },
    {
      "cell_type": "markdown",
      "source": [
        "breaking into individual words . "
      ],
      "metadata": {
        "id": "b6-FQxtHNd5B"
      }
    },
    {
      "cell_type": "code",
      "source": [
        "stemmer=PorterStemmer()\n"
      ],
      "metadata": {
        "id": "3Izu_1fWNb_P"
      },
      "execution_count": 35,
      "outputs": []
    },
    {
      "cell_type": "markdown",
      "source": [
        "some words like are , and , of my are not useful for sentiment analysis ; stopwords is used to remove these words . \n"
      ],
      "metadata": {
        "id": "vYTssiOGNx8j"
      }
    },
    {
      "cell_type": "code",
      "source": [
        "useful_words=[]\n",
        "\n",
        "\n",
        "\n",
        "for word in words : \n",
        "  if word not in set(stopwords.words('english')): \n",
        "    \n",
        "    useful_words.append(stemmer.stem(word))"
      ],
      "metadata": {
        "id": "3LCu3QG2Njic"
      },
      "execution_count": 36,
      "outputs": []
    },
    {
      "cell_type": "code",
      "source": [
        "useful_words"
      ],
      "metadata": {
        "colab": {
          "base_uri": "https://localhost:8080/"
        },
        "id": "M8SlhNVsPZOJ",
        "outputId": "3e68784c-5edf-408b-98f6-bffdb3222c57"
      },
      "execution_count": 37,
      "outputs": [
        {
          "output_type": "execute_result",
          "data": {
            "text/plain": [
              "['name',\n",
              " 'bhuvneshwar',\n",
              " 'kumar',\n",
              " '.',\n",
              " 'born',\n",
              " 'meerut',\n",
              " ',',\n",
              " 'uttar',\n",
              " 'pradesh',\n",
              " '.',\n",
              " 'kasyap',\n",
              " ',',\n",
              " 'watch',\n",
              " 'anim',\n",
              " ',',\n",
              " 'favourit',\n",
              " 'anim',\n",
              " 'naruto',\n",
              " 'shippuden',\n",
              " '.',\n",
              " 'also',\n",
              " 'play',\n",
              " 'cricket',\n",
              " 'footbal',\n",
              " '.',\n",
              " 'favourit',\n",
              " 'footbal',\n",
              " 'lionel',\n",
              " 'messi',\n",
              " 'antoinn',\n",
              " 'griezmann',\n",
              " '.']"
            ]
          },
          "metadata": {},
          "execution_count": 37
        }
      ]
    },
    {
      "cell_type": "code",
      "source": [
        ""
      ],
      "metadata": {
        "id": "gduwciyCQCDh"
      },
      "execution_count": 37,
      "outputs": []
    }
  ]
}