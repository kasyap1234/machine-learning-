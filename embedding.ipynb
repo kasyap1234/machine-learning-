{
  "nbformat": 4,
  "nbformat_minor": 0,
  "metadata": {
    "colab": {
      "name": "embedding.ipynb",
      "provenance": [],
      "authorship_tag": "ABX9TyPLA1Rir4CnQv/kAKguCWLs",
      "include_colab_link": true
    },
    "kernelspec": {
      "name": "python3",
      "display_name": "Python 3"
    },
    "language_info": {
      "name": "python"
    }
  },
  "cells": [
    {
      "cell_type": "markdown",
      "metadata": {
        "id": "view-in-github",
        "colab_type": "text"
      },
      "source": [
        "<a href=\"https://colab.research.google.com/github/kasyap1234/machine-learning-/blob/main/embedding.ipynb\" target=\"_parent\"><img src=\"https://colab.research.google.com/assets/colab-badge.svg\" alt=\"Open In Colab\"/></a>"
      ]
    },
    {
      "cell_type": "code",
      "execution_count": 18,
      "metadata": {
        "id": "RbcvJkpltABV"
      },
      "outputs": [],
      "source": [
        "import tensorflow as tf \n"
      ]
    },
    {
      "cell_type": "code",
      "source": [
        "from tensorflow import keras \n"
      ],
      "metadata": {
        "id": "LqxNoeDptDHj"
      },
      "execution_count": 19,
      "outputs": []
    },
    {
      "cell_type": "code",
      "source": [
        "from tensorflow.keras.preprocessing.text import one_hot \n"
      ],
      "metadata": {
        "id": "8YPIgRlztHwL"
      },
      "execution_count": 20,
      "outputs": []
    },
    {
      "cell_type": "code",
      "source": [
        "\n",
        "di=['the glass of milk', 'the glass of juice','the largest animal', 'the largest plant ','bhuvi is the best in india','cummins is the best in australia ']"
      ],
      "metadata": {
        "id": "ERGED-FhtSDF"
      },
      "execution_count": 21,
      "outputs": []
    },
    {
      "cell_type": "code",
      "source": [
        "vocab_size=10\n"
      ],
      "metadata": {
        "id": "I8qehjkotpbL"
      },
      "execution_count": 22,
      "outputs": []
    },
    {
      "cell_type": "code",
      "source": [
        "one_hot_repr=[]\n",
        "for word in di: \n",
        "  one_hot_repr.append(one_hot(word,vocab_size))\n",
        "  \n"
      ],
      "metadata": {
        "id": "kApQZnPQtsJg"
      },
      "execution_count": 23,
      "outputs": []
    },
    {
      "cell_type": "code",
      "source": [
        "one_hot_repr"
      ],
      "metadata": {
        "colab": {
          "base_uri": "https://localhost:8080/"
        },
        "id": "YTijfGanuBki",
        "outputId": "5e959973-650b-40f2-a97d-c1cf444421cd"
      },
      "execution_count": 24,
      "outputs": [
        {
          "output_type": "execute_result",
          "data": {
            "text/plain": [
              "[[7, 2, 2, 8],\n",
              " [7, 2, 2, 9],\n",
              " [7, 3, 2],\n",
              " [7, 3, 4],\n",
              " [9, 9, 7, 4, 4, 7],\n",
              " [4, 9, 7, 4, 4, 5]]"
            ]
          },
          "metadata": {},
          "execution_count": 24
        }
      ]
    },
    {
      "cell_type": "code",
      "source": [
        "from tensorflow.keras.layers import Embedding \n",
        "from tensorflow.keras.preprocessing.sequence import pad_sequences\n",
        "from tensorflow.keras.models import Sequential \n"
      ],
      "metadata": {
        "id": "HKn2PAdJuDX-"
      },
      "execution_count": 25,
      "outputs": []
    },
    {
      "cell_type": "code",
      "source": [
        "# we are creating an embedded layer to store each word in the form of a vector\n"
      ],
      "metadata": {
        "id": "jf98iSsLuW04"
      },
      "execution_count": 26,
      "outputs": []
    },
    {
      "cell_type": "code",
      "source": [
        "import numpy as np\n",
        "sent_length=10\n",
        "embedded_di=pad_sequences(one_hot_repr,padding='pre',maxlen=sent_length)\n"
      ],
      "metadata": {
        "id": "4OqcWFKIuhBU"
      },
      "execution_count": 27,
      "outputs": []
    },
    {
      "cell_type": "code",
      "source": [
        "embedded_di\n",
        "\n"
      ],
      "metadata": {
        "colab": {
          "base_uri": "https://localhost:8080/"
        },
        "id": "8Np_EBAfv2v_",
        "outputId": "033a7392-6bcc-4e23-d77d-9215b1c7d9df"
      },
      "execution_count": 28,
      "outputs": [
        {
          "output_type": "execute_result",
          "data": {
            "text/plain": [
              "array([[0, 0, 0, 0, 0, 0, 7, 2, 2, 8],\n",
              "       [0, 0, 0, 0, 0, 0, 7, 2, 2, 9],\n",
              "       [0, 0, 0, 0, 0, 0, 0, 7, 3, 2],\n",
              "       [0, 0, 0, 0, 0, 0, 0, 7, 3, 4],\n",
              "       [0, 0, 0, 0, 9, 9, 7, 4, 4, 7],\n",
              "       [0, 0, 0, 0, 4, 9, 7, 4, 4, 5]], dtype=int32)"
            ]
          },
          "metadata": {},
          "execution_count": 28
        }
      ]
    },
    {
      "cell_type": "code",
      "source": [
        ""
      ],
      "metadata": {
        "id": "5HRVnEZzv4nu"
      },
      "execution_count": 28,
      "outputs": []
    }
  ]
}