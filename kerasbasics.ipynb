{
  "nbformat": 4,
  "nbformat_minor": 0,
  "metadata": {
    "colab": {
      "name": "kerasbasics.ipynb",
      "provenance": [],
      "authorship_tag": "ABX9TyP5LFXML1OU2+pGUkUdUNY3",
      "include_colab_link": true
    },
    "kernelspec": {
      "name": "python3",
      "display_name": "Python 3"
    },
    "language_info": {
      "name": "python"
    },
    "accelerator": "GPU"
  },
  "cells": [
    {
      "cell_type": "markdown",
      "metadata": {
        "id": "view-in-github",
        "colab_type": "text"
      },
      "source": [
        "<a href=\"https://colab.research.google.com/github/kasyap1234/machine-learning-/blob/main/kerasbasics.ipynb\" target=\"_parent\"><img src=\"https://colab.research.google.com/assets/colab-badge.svg\" alt=\"Open In Colab\"/></a>"
      ]
    },
    {
      "cell_type": "code",
      "metadata": {
        "id": "94erITqIYxsG"
      },
      "source": [
        "%tensorflow_version 2.x\n",
        "import tensorflow \n"
      ],
      "execution_count": 2,
      "outputs": []
    },
    {
      "cell_type": "code",
      "metadata": {
        "id": "xuC2UHXjY9G2"
      },
      "source": [
        "import keras \n",
        "\n"
      ],
      "execution_count": 1,
      "outputs": []
    },
    {
      "cell_type": "markdown",
      "metadata": {
        "id": "qGqRf-Ijqxnv"
      },
      "source": [
        "create a keras model(neural network) \n"
      ]
    },
    {
      "cell_type": "code",
      "metadata": {
        "id": "VpH0WOxAZapV"
      },
      "source": [
        "model=Sequential()\n",
        "model.add(Dense(12,input_dim=8,activation='relu'))\n",
        "model.add(Dense(8,activation='relu'))\n",
        "model.add(Dense(1,activation='sigmoid'))\n"
      ],
      "execution_count": 4,
      "outputs": []
    },
    {
      "cell_type": "markdown",
      "metadata": {
        "id": "GQk5za25rjTt"
      },
      "source": [
        "we use binary crossentropy as the loss function and adam optimiser with the metric score as accuracy since we are building a classification model . \n"
      ]
    },
    {
      "cell_type": "code",
      "metadata": {
        "id": "LD6UNgN6pfZT"
      },
      "source": [
        "model.compile(loss='binary_crossentropy',optimizer='adam',metrics=['accuracy'])"
      ],
      "execution_count": 5,
      "outputs": []
    },
    {
      "cell_type": "markdown",
      "metadata": {
        "id": "TOZgWa8br0-B"
      },
      "source": [
        "now, we will try to fit our model to the data using fit() function on the model . \n"
      ]
    },
    {
      "cell_type": "code",
      "metadata": {
        "id": "tGV74G9FrKEp"
      },
      "source": [
        "#model.fit(x,y,epochs=100,batch_size=10)"
      ],
      "execution_count": 7,
      "outputs": []
    },
    {
      "cell_type": "code",
      "metadata": {
        "id": "V88KJ_7fsJw6"
      },
      "source": [
        ""
      ],
      "execution_count": null,
      "outputs": []
    }
  ]
}